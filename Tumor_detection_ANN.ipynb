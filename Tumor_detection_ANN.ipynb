{
  "nbformat": 4,
  "nbformat_minor": 0,
  "metadata": {
    "colab": {
      "provenance": []
    },
    "kernelspec": {
      "name": "python3",
      "display_name": "Python 3"
    },
    "language_info": {
      "name": "python"
    }
  },
  "cells": [
    {
      "cell_type": "code",
      "execution_count": 5,
      "metadata": {
        "colab": {
          "base_uri": "https://localhost:8080/"
        },
        "id": "Zy9Lm1_-3YUb",
        "outputId": "1ed2fa8d-f1f6-4b58-eeba-505755052886"
      },
      "outputs": [
        {
          "output_type": "stream",
          "name": "stdout",
          "text": [
            "<class 'pandas.core.frame.DataFrame'>\n",
            "RangeIndex: 569 entries, 0 to 568\n",
            "Data columns (total 32 columns):\n",
            " #   Column                   Non-Null Count  Dtype  \n",
            "---  ------                   --------------  -----  \n",
            " 0   id                       569 non-null    int64  \n",
            " 1   diagnosis                569 non-null    object \n",
            " 2   radius_mean              569 non-null    float64\n",
            " 3   texture_mean             569 non-null    float64\n",
            " 4   perimeter_mean           569 non-null    float64\n",
            " 5   area_mean                569 non-null    float64\n",
            " 6   smoothness_mean          569 non-null    float64\n",
            " 7   compactness_mean         569 non-null    float64\n",
            " 8   concavity_mean           569 non-null    float64\n",
            " 9   concave points_mean      569 non-null    float64\n",
            " 10  symmetry_mean            569 non-null    float64\n",
            " 11  fractal_dimension_mean   569 non-null    float64\n",
            " 12  radius_se                569 non-null    float64\n",
            " 13  texture_se               569 non-null    float64\n",
            " 14  perimeter_se             569 non-null    float64\n",
            " 15  area_se                  569 non-null    float64\n",
            " 16  smoothness_se            569 non-null    float64\n",
            " 17  compactness_se           569 non-null    float64\n",
            " 18  concavity_se             569 non-null    float64\n",
            " 19  concave points_se        569 non-null    float64\n",
            " 20  symmetry_se              569 non-null    float64\n",
            " 21  fractal_dimension_se     569 non-null    float64\n",
            " 22  radius_worst             569 non-null    float64\n",
            " 23  texture_worst            569 non-null    float64\n",
            " 24  perimeter_worst          569 non-null    float64\n",
            " 25  area_worst               569 non-null    float64\n",
            " 26  smoothness_worst         569 non-null    float64\n",
            " 27  compactness_worst        569 non-null    float64\n",
            " 28  concavity_worst          569 non-null    float64\n",
            " 29  concave points_worst     569 non-null    float64\n",
            " 30  symmetry_worst           569 non-null    float64\n",
            " 31  fractal_dimension_worst  569 non-null    float64\n",
            "dtypes: float64(30), int64(1), object(1)\n",
            "memory usage: 142.4+ KB\n"
          ]
        }
      ],
      "source": [
        "import pandas as pd\n",
        "import numpy as np\n",
        "import matplotlib.pyplot as plt\n",
        "import seaborn as sns\n",
        "\n",
        "df=pd.read_csv('/content/Tumor_Detection.csv')\n",
        "\n",
        "df.dropna()\n",
        "df.drop_duplicates()\n",
        "df.info()"
      ]
    },
    {
      "cell_type": "code",
      "source": [
        "df=df.drop('id',axis=1)\n",
        "from sklearn.preprocessing import StandardScaler\n",
        "std=StandardScaler()\n",
        "X=df.drop('diagnosis',axis=1)\n",
        "Y=df['diagnosis']\n",
        "X=std.fit_transform(X)\n",
        "from sklearn.preprocessing import LabelEncoder\n",
        "le = LabelEncoder()\n",
        "Y= le.fit_transform(Y)"
      ],
      "metadata": {
        "id": "Ii9RIXZy3vmu"
      },
      "execution_count": 6,
      "outputs": []
    },
    {
      "cell_type": "code",
      "source": [
        "print(X.shape)\n"
      ],
      "metadata": {
        "colab": {
          "base_uri": "https://localhost:8080/"
        },
        "id": "_otIY7ypAGzc",
        "outputId": "a6c68ebd-8a5f-4b35-f380-a122f3c13ab0"
      },
      "execution_count": 7,
      "outputs": [
        {
          "output_type": "stream",
          "name": "stdout",
          "text": [
            "(569, 30)\n"
          ]
        }
      ]
    },
    {
      "cell_type": "code",
      "source": [
        "Y=np.array(Y)\n",
        "print(X.shape)\n",
        "print(Y.shape)"
      ],
      "metadata": {
        "colab": {
          "base_uri": "https://localhost:8080/"
        },
        "id": "K8KA1q1s3792",
        "outputId": "1fd3da1f-fb34-4857-d140-fa61e60b646d"
      },
      "execution_count": 8,
      "outputs": [
        {
          "output_type": "stream",
          "name": "stdout",
          "text": [
            "(569, 30)\n",
            "(569,)\n"
          ]
        }
      ]
    },
    {
      "cell_type": "code",
      "source": [
        "from sklearn.model_selection import train_test_split\n",
        "\n",
        "# Assuming X and Y are your original features and labels\n",
        "X_train, X_test, Y_train, Y_test = train_test_split(X, Y, test_size=0.2, random_state=42)\n",
        "\n",
        "print(X_train.shape)\n",
        "print(Y_train.shape)\n",
        "print(np.unique(Y_train))\n"
      ],
      "metadata": {
        "colab": {
          "base_uri": "https://localhost:8080/"
        },
        "id": "fVio_Fr_8GMz",
        "outputId": "09150834-298e-43b8-b234-bc8439304fa2"
      },
      "execution_count": 9,
      "outputs": [
        {
          "output_type": "stream",
          "name": "stdout",
          "text": [
            "(455, 30)\n",
            "(455,)\n",
            "[0 1]\n"
          ]
        }
      ]
    },
    {
      "cell_type": "code",
      "source": [
        "from tensorflow import keras\n",
        "from tensorflow.keras.models import Sequential\n",
        "from tensorflow.keras.layers import Dense\n",
        "model=Sequential()\n",
        "model.add(Dense(units=32,input_dim=X_test.shape[-1],activation='relu')),\n",
        "model.add(Dense(units=10,activation='relu')),\n",
        "model.add(Dense(1,activation='sigmoid'))\n",
        "model.compile(optimizer='adam',\n",
        "              loss='binary_crossentropy',\n",
        "              metrics=['accuracy'])\n",
        "model.fit(X_train,Y_train,epochs=15)"
      ],
      "metadata": {
        "colab": {
          "base_uri": "https://localhost:8080/"
        },
        "id": "87EUGHJD6_cT",
        "outputId": "42b490cf-9f6f-471b-d0bb-a5d9aaa71747"
      },
      "execution_count": 10,
      "outputs": [
        {
          "output_type": "stream",
          "name": "stdout",
          "text": [
            "Epoch 1/15\n",
            "15/15 [==============================] - 1s 3ms/step - loss: 0.5748 - accuracy: 0.7516\n",
            "Epoch 2/15\n",
            "15/15 [==============================] - 0s 2ms/step - loss: 0.3964 - accuracy: 0.8835\n",
            "Epoch 3/15\n",
            "15/15 [==============================] - 0s 2ms/step - loss: 0.2892 - accuracy: 0.9165\n",
            "Epoch 4/15\n",
            "15/15 [==============================] - 0s 2ms/step - loss: 0.2243 - accuracy: 0.9275\n",
            "Epoch 5/15\n",
            "15/15 [==============================] - 0s 3ms/step - loss: 0.1838 - accuracy: 0.9385\n",
            "Epoch 6/15\n",
            "15/15 [==============================] - 0s 2ms/step - loss: 0.1552 - accuracy: 0.9516\n",
            "Epoch 7/15\n",
            "15/15 [==============================] - 0s 2ms/step - loss: 0.1358 - accuracy: 0.9560\n",
            "Epoch 8/15\n",
            "15/15 [==============================] - 0s 3ms/step - loss: 0.1215 - accuracy: 0.9604\n",
            "Epoch 9/15\n",
            "15/15 [==============================] - 0s 2ms/step - loss: 0.1104 - accuracy: 0.9582\n",
            "Epoch 10/15\n",
            "15/15 [==============================] - 0s 3ms/step - loss: 0.1020 - accuracy: 0.9604\n",
            "Epoch 11/15\n",
            "15/15 [==============================] - 0s 2ms/step - loss: 0.0943 - accuracy: 0.9692\n",
            "Epoch 12/15\n",
            "15/15 [==============================] - 0s 2ms/step - loss: 0.0884 - accuracy: 0.9714\n",
            "Epoch 13/15\n",
            "15/15 [==============================] - 0s 2ms/step - loss: 0.0832 - accuracy: 0.9714\n",
            "Epoch 14/15\n",
            "15/15 [==============================] - 0s 2ms/step - loss: 0.0791 - accuracy: 0.9736\n",
            "Epoch 15/15\n",
            "15/15 [==============================] - 0s 3ms/step - loss: 0.0753 - accuracy: 0.9736\n"
          ]
        },
        {
          "output_type": "execute_result",
          "data": {
            "text/plain": [
              "<keras.src.callbacks.History at 0x79fe17b0f490>"
            ]
          },
          "metadata": {},
          "execution_count": 10
        }
      ]
    },
    {
      "cell_type": "code",
      "source": [
        "ypred=model.predict(X_test)"
      ],
      "metadata": {
        "colab": {
          "base_uri": "https://localhost:8080/"
        },
        "id": "vsvl6CGnUOal",
        "outputId": "fe9aef4e-5ce0-4942-f858-27e561876762"
      },
      "execution_count": 11,
      "outputs": [
        {
          "output_type": "stream",
          "name": "stdout",
          "text": [
            "4/4 [==============================] - 0s 2ms/step\n"
          ]
        }
      ]
    },
    {
      "cell_type": "code",
      "source": [
        "\n",
        "for i in range(25):\n",
        "    #plt.imshow(X_test[i], cmap=plt.cm.binary)  # Assuming X_test contains images\n",
        "    predicted_label =ypred[i]\n",
        "    if predicted_label>0.5:\n",
        "      predicted_label=1\n",
        "    else:\n",
        "      predicted_label=0\n",
        "    true_label = Y_test[i]  # Assuming Y_test contains labels\n",
        "    print(\"predicted\",predicted_label,\"-----------\",\"true\",true_label)\n"
      ],
      "metadata": {
        "colab": {
          "base_uri": "https://localhost:8080/"
        },
        "id": "QueAbmOmUhG4",
        "outputId": "c26b9790-09ea-47f7-b32a-44c980fc6b89"
      },
      "execution_count": 18,
      "outputs": [
        {
          "output_type": "stream",
          "name": "stdout",
          "text": [
            "predicted 0 ----------- true 0\n",
            "predicted 1 ----------- true 1\n",
            "predicted 1 ----------- true 1\n",
            "predicted 0 ----------- true 0\n",
            "predicted 0 ----------- true 0\n",
            "predicted 1 ----------- true 1\n",
            "predicted 1 ----------- true 1\n",
            "predicted 1 ----------- true 1\n",
            "predicted 0 ----------- true 0\n",
            "predicted 0 ----------- true 0\n",
            "predicted 0 ----------- true 0\n",
            "predicted 1 ----------- true 1\n",
            "predicted 0 ----------- true 0\n",
            "predicted 1 ----------- true 1\n",
            "predicted 0 ----------- true 0\n",
            "predicted 1 ----------- true 1\n",
            "predicted 0 ----------- true 0\n",
            "predicted 0 ----------- true 0\n",
            "predicted 0 ----------- true 0\n",
            "predicted 1 ----------- true 1\n",
            "predicted 0 ----------- true 1\n",
            "predicted 0 ----------- true 0\n",
            "predicted 1 ----------- true 1\n",
            "predicted 0 ----------- true 0\n",
            "predicted 0 ----------- true 0\n"
          ]
        }
      ]
    },
    {
      "cell_type": "code",
      "source": [],
      "metadata": {
        "id": "z_k7ens4WuCy"
      },
      "execution_count": 12,
      "outputs": []
    }
  ]
}